{
 "cells": [
  {
   "cell_type": "code",
   "execution_count": 1,
   "metadata": {},
   "outputs": [],
   "source": [
    "import numpy as np"
   ]
  },
  {
   "cell_type": "markdown",
   "metadata": {},
   "source": [
    "Some ideas:\n",
    "- Option pricing, different models (Black Scholes, Hull White, Heston), different types of options (American, Asian, European)\n",
    "- Mining alpha factors, Hierarchical Evolutionary Algorithm\n",
    "- Machine learning, XGBoost\n",
    "- $e^{x}$\\\\\n",
    "\n",
    "Resources:\n",
    "- https://quantocracy.com/\n",
    "- https://arxiv.org/ftp/arxiv/papers/1601/1601.00991.pdf\n"
   ]
  },
  {
   "cell_type": "code",
   "execution_count": null,
   "metadata": {},
   "outputs": [],
   "source": []
  }
 ],
 "metadata": {
  "kernelspec": {
   "display_name": "qids",
   "language": "python",
   "name": "python3"
  },
  "language_info": {
   "codemirror_mode": {
    "name": "ipython",
    "version": 3
   },
   "file_extension": ".py",
   "mimetype": "text/x-python",
   "name": "python",
   "nbconvert_exporter": "python",
   "pygments_lexer": "ipython3",
   "version": "3.9.16"
  }
 },
 "nbformat": 4,
 "nbformat_minor": 2
}
